{
  "nbformat": 4,
  "nbformat_minor": 0,
  "metadata": {
    "colab": {
      "name": "exerciciosPandas.ipynb",
      "provenance": [],
      "authorship_tag": "ABX9TyOCcWCZL8LH13ixs5Y8MRrF",
      "include_colab_link": true
    },
    "kernelspec": {
      "name": "python3",
      "display_name": "Python 3"
    }
  },
  "cells": [
    {
      "cell_type": "markdown",
      "metadata": {
        "id": "view-in-github",
        "colab_type": "text"
      },
      "source": [
        "<a href=\"https://colab.research.google.com/github/medinabopp/DSWP/blob/master/exerciciosPandas.ipynb\" target=\"_parent\"><img src=\"https://colab.research.google.com/assets/colab-badge.svg\" alt=\"Open In Colab\"/></a>"
      ]
    },
    {
      "cell_type": "markdown",
      "metadata": {
        "id": "o_cl0kFgQfFh"
      },
      "source": [
        "## Exercício 1\n",
        "* A partir dos dataframes USA_Abbrev, USA_Area e USA_Population, construa o Dataframe USA contendo as COLUNAS state, abbreviation, area, ages, year, population.\n"
      ]
    },
    {
      "cell_type": "markdown",
      "metadata": {
        "id": "C27XnENqIiYe"
      },
      "source": [
        "https://raw.githubusercontent.com/medinabopp/DSWP/master/Dataframes/USA_Abbrev.csv\n",
        "\n",
        "https://raw.githubusercontent.com/medinabopp/DSWP/master/Dataframes/USA_Area.csv\n",
        "\n",
        "https://raw.githubusercontent.com/medinabopp/DSWP/master/Dataframes/USA_Population.csv"
      ]
    },
    {
      "cell_type": "markdown",
      "metadata": {
        "id": "s8rQUo7yHKJ1"
      },
      "source": [
        "* Observação: A forma mais fácil de ler um arquivo CSV (a partir do Excell por exemplo) a partir do GitHub é clicar no arquivo csv no seu repositório do GitHub e em seguida clicar em 'raw'. Depois, copie o endereço apresentado no browser e cole na variável 'url'. Qualquer dúvida, leia o documento a seguir: https://towardsdatascience.com/3-ways-to-load-csv-files-into-colab-7c14fcbdcb92."
      ]
    },
    {
      "cell_type": "code",
      "metadata": {
        "id": "_PH23HZ8L8Mk"
      },
      "source": [
        "import pandas as pd"
      ],
      "execution_count": 1,
      "outputs": []
    },
    {
      "cell_type": "code",
      "metadata": {
        "id": "UvYOaRMNLiww",
        "outputId": "b999a1ce-d819-420a-a52b-aad89e108aa1",
        "colab": {
          "base_uri": "https://localhost:8080/",
          "height": 198
        }
      },
      "source": [
        "url = 'https://raw.githubusercontent.com/medinabopp/DSWP/master/Dataframes/USA_Abbrev.csv'\n",
        "#df_USA_Abbrev = pd.read_csv(url, index_col = 'PassengerId')\n",
        "df_USA_Abbrev = pd.read_csv(url)\n",
        "df_USA_Abbrev.head()"
      ],
      "execution_count": 2,
      "outputs": [
        {
          "output_type": "execute_result",
          "data": {
            "text/html": [
              "<div>\n",
              "<style scoped>\n",
              "    .dataframe tbody tr th:only-of-type {\n",
              "        vertical-align: middle;\n",
              "    }\n",
              "\n",
              "    .dataframe tbody tr th {\n",
              "        vertical-align: top;\n",
              "    }\n",
              "\n",
              "    .dataframe thead th {\n",
              "        text-align: right;\n",
              "    }\n",
              "</style>\n",
              "<table border=\"1\" class=\"dataframe\">\n",
              "  <thead>\n",
              "    <tr style=\"text-align: right;\">\n",
              "      <th></th>\n",
              "      <th>state</th>\n",
              "      <th>abbreviation</th>\n",
              "    </tr>\n",
              "  </thead>\n",
              "  <tbody>\n",
              "    <tr>\n",
              "      <th>0</th>\n",
              "      <td>Alabama</td>\n",
              "      <td>AL</td>\n",
              "    </tr>\n",
              "    <tr>\n",
              "      <th>1</th>\n",
              "      <td>Alaska</td>\n",
              "      <td>AK</td>\n",
              "    </tr>\n",
              "    <tr>\n",
              "      <th>2</th>\n",
              "      <td>Arizona</td>\n",
              "      <td>AZ</td>\n",
              "    </tr>\n",
              "    <tr>\n",
              "      <th>3</th>\n",
              "      <td>Arkansas</td>\n",
              "      <td>AR</td>\n",
              "    </tr>\n",
              "    <tr>\n",
              "      <th>4</th>\n",
              "      <td>California</td>\n",
              "      <td>CA</td>\n",
              "    </tr>\n",
              "  </tbody>\n",
              "</table>\n",
              "</div>"
            ],
            "text/plain": [
              "        state abbreviation\n",
              "0     Alabama           AL\n",
              "1      Alaska           AK\n",
              "2     Arizona           AZ\n",
              "3    Arkansas           AR\n",
              "4  California           CA"
            ]
          },
          "metadata": {
            "tags": []
          },
          "execution_count": 2
        }
      ]
    },
    {
      "cell_type": "code",
      "metadata": {
        "id": "RqT44F4HS1Yf",
        "outputId": "ecf7c1de-68b8-4dc4-d8fd-4b07c41756b0",
        "colab": {
          "base_uri": "https://localhost:8080/",
          "height": 198
        }
      },
      "source": [
        "df_USA_Abbrev.columns = ['estado', 'abbreviation']\n",
        "df_USA_Abbrev.head()"
      ],
      "execution_count": 31,
      "outputs": [
        {
          "output_type": "execute_result",
          "data": {
            "text/html": [
              "<div>\n",
              "<style scoped>\n",
              "    .dataframe tbody tr th:only-of-type {\n",
              "        vertical-align: middle;\n",
              "    }\n",
              "\n",
              "    .dataframe tbody tr th {\n",
              "        vertical-align: top;\n",
              "    }\n",
              "\n",
              "    .dataframe thead th {\n",
              "        text-align: right;\n",
              "    }\n",
              "</style>\n",
              "<table border=\"1\" class=\"dataframe\">\n",
              "  <thead>\n",
              "    <tr style=\"text-align: right;\">\n",
              "      <th></th>\n",
              "      <th>estado</th>\n",
              "      <th>abbreviation</th>\n",
              "    </tr>\n",
              "  </thead>\n",
              "  <tbody>\n",
              "    <tr>\n",
              "      <th>0</th>\n",
              "      <td>Alabama</td>\n",
              "      <td>AL</td>\n",
              "    </tr>\n",
              "    <tr>\n",
              "      <th>1</th>\n",
              "      <td>Alaska</td>\n",
              "      <td>AK</td>\n",
              "    </tr>\n",
              "    <tr>\n",
              "      <th>2</th>\n",
              "      <td>Arizona</td>\n",
              "      <td>AZ</td>\n",
              "    </tr>\n",
              "    <tr>\n",
              "      <th>3</th>\n",
              "      <td>Arkansas</td>\n",
              "      <td>AR</td>\n",
              "    </tr>\n",
              "    <tr>\n",
              "      <th>4</th>\n",
              "      <td>California</td>\n",
              "      <td>CA</td>\n",
              "    </tr>\n",
              "  </tbody>\n",
              "</table>\n",
              "</div>"
            ],
            "text/plain": [
              "       estado abbreviation\n",
              "0     Alabama           AL\n",
              "1      Alaska           AK\n",
              "2     Arizona           AZ\n",
              "3    Arkansas           AR\n",
              "4  California           CA"
            ]
          },
          "metadata": {
            "tags": []
          },
          "execution_count": 31
        }
      ]
    },
    {
      "cell_type": "code",
      "metadata": {
        "id": "rzEjy5cQn34L",
        "outputId": "ac11c4d2-e1f9-4dd3-affc-a9e7a67bca0d",
        "colab": {
          "base_uri": "https://localhost:8080/",
          "height": 48
        }
      },
      "source": [
        "# df[df.duplicated(subset=['A','B'])]\n",
        "df_USA_Abbrev[df_USA_Abbrev.duplicated(subset=['estado','abbreviation'])]"
      ],
      "execution_count": 36,
      "outputs": [
        {
          "output_type": "execute_result",
          "data": {
            "text/html": [
              "<div>\n",
              "<style scoped>\n",
              "    .dataframe tbody tr th:only-of-type {\n",
              "        vertical-align: middle;\n",
              "    }\n",
              "\n",
              "    .dataframe tbody tr th {\n",
              "        vertical-align: top;\n",
              "    }\n",
              "\n",
              "    .dataframe thead th {\n",
              "        text-align: right;\n",
              "    }\n",
              "</style>\n",
              "<table border=\"1\" class=\"dataframe\">\n",
              "  <thead>\n",
              "    <tr style=\"text-align: right;\">\n",
              "      <th></th>\n",
              "      <th>estado</th>\n",
              "      <th>abbreviation</th>\n",
              "    </tr>\n",
              "  </thead>\n",
              "  <tbody>\n",
              "  </tbody>\n",
              "</table>\n",
              "</div>"
            ],
            "text/plain": [
              "Empty DataFrame\n",
              "Columns: [estado, abbreviation]\n",
              "Index: []"
            ]
          },
          "metadata": {
            "tags": []
          },
          "execution_count": 36
        }
      ]
    },
    {
      "cell_type": "code",
      "metadata": {
        "id": "IaSqU185MQsI",
        "outputId": "52b0bf87-abd9-4461-cca2-f4bd21580292",
        "colab": {
          "base_uri": "https://localhost:8080/",
          "height": 198
        }
      },
      "source": [
        "url = 'https://raw.githubusercontent.com/medinabopp/DSWP/master/Dataframes/USA_Area.csv'\n",
        "#df_USA_Abbrev = pd.read_csv(url, index_col = 'PassengerId')\n",
        "df_USA_Area = pd.read_csv(url)\n",
        "df_USA_Area.head()"
      ],
      "execution_count": 37,
      "outputs": [
        {
          "output_type": "execute_result",
          "data": {
            "text/html": [
              "<div>\n",
              "<style scoped>\n",
              "    .dataframe tbody tr th:only-of-type {\n",
              "        vertical-align: middle;\n",
              "    }\n",
              "\n",
              "    .dataframe tbody tr th {\n",
              "        vertical-align: top;\n",
              "    }\n",
              "\n",
              "    .dataframe thead th {\n",
              "        text-align: right;\n",
              "    }\n",
              "</style>\n",
              "<table border=\"1\" class=\"dataframe\">\n",
              "  <thead>\n",
              "    <tr style=\"text-align: right;\">\n",
              "      <th></th>\n",
              "      <th>state</th>\n",
              "      <th>area</th>\n",
              "    </tr>\n",
              "  </thead>\n",
              "  <tbody>\n",
              "    <tr>\n",
              "      <th>0</th>\n",
              "      <td>Alabama</td>\n",
              "      <td>52423</td>\n",
              "    </tr>\n",
              "    <tr>\n",
              "      <th>1</th>\n",
              "      <td>Alaska</td>\n",
              "      <td>656425</td>\n",
              "    </tr>\n",
              "    <tr>\n",
              "      <th>2</th>\n",
              "      <td>Arizona</td>\n",
              "      <td>114006</td>\n",
              "    </tr>\n",
              "    <tr>\n",
              "      <th>3</th>\n",
              "      <td>Arkansas</td>\n",
              "      <td>53182</td>\n",
              "    </tr>\n",
              "    <tr>\n",
              "      <th>4</th>\n",
              "      <td>California</td>\n",
              "      <td>163707</td>\n",
              "    </tr>\n",
              "  </tbody>\n",
              "</table>\n",
              "</div>"
            ],
            "text/plain": [
              "        state    area\n",
              "0     Alabama   52423\n",
              "1      Alaska  656425\n",
              "2     Arizona  114006\n",
              "3    Arkansas   53182\n",
              "4  California  163707"
            ]
          },
          "metadata": {
            "tags": []
          },
          "execution_count": 37
        }
      ]
    },
    {
      "cell_type": "code",
      "metadata": {
        "id": "lz3cILizrAA7",
        "outputId": "43d74e01-226b-47c5-d5d2-d174ea2a6865",
        "colab": {
          "base_uri": "https://localhost:8080/",
          "height": 48
        }
      },
      "source": [
        "df_USA_Area[df_USA_Area.duplicated(subset=['state','area'])]"
      ],
      "execution_count": 10,
      "outputs": [
        {
          "output_type": "execute_result",
          "data": {
            "text/html": [
              "<div>\n",
              "<style scoped>\n",
              "    .dataframe tbody tr th:only-of-type {\n",
              "        vertical-align: middle;\n",
              "    }\n",
              "\n",
              "    .dataframe tbody tr th {\n",
              "        vertical-align: top;\n",
              "    }\n",
              "\n",
              "    .dataframe thead th {\n",
              "        text-align: right;\n",
              "    }\n",
              "</style>\n",
              "<table border=\"1\" class=\"dataframe\">\n",
              "  <thead>\n",
              "    <tr style=\"text-align: right;\">\n",
              "      <th></th>\n",
              "      <th>state</th>\n",
              "      <th>area</th>\n",
              "    </tr>\n",
              "  </thead>\n",
              "  <tbody>\n",
              "  </tbody>\n",
              "</table>\n",
              "</div>"
            ],
            "text/plain": [
              "Empty DataFrame\n",
              "Columns: [state, area]\n",
              "Index: []"
            ]
          },
          "metadata": {
            "tags": []
          },
          "execution_count": 10
        }
      ]
    },
    {
      "cell_type": "code",
      "metadata": {
        "id": "6tzuEolV936L",
        "outputId": "331e03dd-6292-4fe7-9c6b-ee450604f6d8",
        "colab": {
          "base_uri": "https://localhost:8080/",
          "height": 198
        }
      },
      "source": [
        "df_USA_Abbrev_Area = pd.merge(df_USA_Abbrev, df_USA_Area, left_on = 'estado', right_on = 'state', how = 'outer', indicator = True,suffixes=('_x','_y'))\n",
        "df_USA_Abbrev_Area.head()"
      ],
      "execution_count": 38,
      "outputs": [
        {
          "output_type": "execute_result",
          "data": {
            "text/html": [
              "<div>\n",
              "<style scoped>\n",
              "    .dataframe tbody tr th:only-of-type {\n",
              "        vertical-align: middle;\n",
              "    }\n",
              "\n",
              "    .dataframe tbody tr th {\n",
              "        vertical-align: top;\n",
              "    }\n",
              "\n",
              "    .dataframe thead th {\n",
              "        text-align: right;\n",
              "    }\n",
              "</style>\n",
              "<table border=\"1\" class=\"dataframe\">\n",
              "  <thead>\n",
              "    <tr style=\"text-align: right;\">\n",
              "      <th></th>\n",
              "      <th>estado</th>\n",
              "      <th>abbreviation</th>\n",
              "      <th>state</th>\n",
              "      <th>area</th>\n",
              "      <th>_merge</th>\n",
              "    </tr>\n",
              "  </thead>\n",
              "  <tbody>\n",
              "    <tr>\n",
              "      <th>0</th>\n",
              "      <td>Alabama</td>\n",
              "      <td>AL</td>\n",
              "      <td>Alabama</td>\n",
              "      <td>52423</td>\n",
              "      <td>both</td>\n",
              "    </tr>\n",
              "    <tr>\n",
              "      <th>1</th>\n",
              "      <td>Alaska</td>\n",
              "      <td>AK</td>\n",
              "      <td>Alaska</td>\n",
              "      <td>656425</td>\n",
              "      <td>both</td>\n",
              "    </tr>\n",
              "    <tr>\n",
              "      <th>2</th>\n",
              "      <td>Arizona</td>\n",
              "      <td>AZ</td>\n",
              "      <td>Arizona</td>\n",
              "      <td>114006</td>\n",
              "      <td>both</td>\n",
              "    </tr>\n",
              "    <tr>\n",
              "      <th>3</th>\n",
              "      <td>Arkansas</td>\n",
              "      <td>AR</td>\n",
              "      <td>Arkansas</td>\n",
              "      <td>53182</td>\n",
              "      <td>both</td>\n",
              "    </tr>\n",
              "    <tr>\n",
              "      <th>4</th>\n",
              "      <td>California</td>\n",
              "      <td>CA</td>\n",
              "      <td>California</td>\n",
              "      <td>163707</td>\n",
              "      <td>both</td>\n",
              "    </tr>\n",
              "  </tbody>\n",
              "</table>\n",
              "</div>"
            ],
            "text/plain": [
              "       estado abbreviation       state    area _merge\n",
              "0     Alabama           AL     Alabama   52423   both\n",
              "1      Alaska           AK      Alaska  656425   both\n",
              "2     Arizona           AZ     Arizona  114006   both\n",
              "3    Arkansas           AR    Arkansas   53182   both\n",
              "4  California           CA  California  163707   both"
            ]
          },
          "metadata": {
            "tags": []
          },
          "execution_count": 38
        }
      ]
    },
    {
      "cell_type": "code",
      "metadata": {
        "id": "dCZwl-uMSFAk"
      },
      "source": [
        ""
      ],
      "execution_count": null,
      "outputs": []
    },
    {
      "cell_type": "code",
      "metadata": {
        "id": "TFR3tgcurcFV",
        "outputId": "bd7674b4-43f2-43b9-ce09-3f3349509a20",
        "colab": {
          "base_uri": "https://localhost:8080/",
          "height": 48
        }
      },
      "source": [
        "df_USA_Abbrev_Area[df_USA_Abbrev_Area.duplicated(subset=['estado','abbreviation'])]"
      ],
      "execution_count": 40,
      "outputs": [
        {
          "output_type": "execute_result",
          "data": {
            "text/html": [
              "<div>\n",
              "<style scoped>\n",
              "    .dataframe tbody tr th:only-of-type {\n",
              "        vertical-align: middle;\n",
              "    }\n",
              "\n",
              "    .dataframe tbody tr th {\n",
              "        vertical-align: top;\n",
              "    }\n",
              "\n",
              "    .dataframe thead th {\n",
              "        text-align: right;\n",
              "    }\n",
              "</style>\n",
              "<table border=\"1\" class=\"dataframe\">\n",
              "  <thead>\n",
              "    <tr style=\"text-align: right;\">\n",
              "      <th></th>\n",
              "      <th>estado</th>\n",
              "      <th>abbreviation</th>\n",
              "      <th>state</th>\n",
              "      <th>area</th>\n",
              "      <th>_merge</th>\n",
              "    </tr>\n",
              "  </thead>\n",
              "  <tbody>\n",
              "  </tbody>\n",
              "</table>\n",
              "</div>"
            ],
            "text/plain": [
              "Empty DataFrame\n",
              "Columns: [estado, abbreviation, state, area, _merge]\n",
              "Index: []"
            ]
          },
          "metadata": {
            "tags": []
          },
          "execution_count": 40
        }
      ]
    },
    {
      "cell_type": "code",
      "metadata": {
        "id": "JBuugM7VAyBq",
        "outputId": "f173c44d-3119-45c8-9ffb-ee1e75a04e12",
        "colab": {
          "base_uri": "https://localhost:8080/",
          "height": 78
        }
      },
      "source": [
        "#exibe as linhas que não tem correspondência\n",
        "df_USA_Abbrev_Area[df_USA_Abbrev_Area['_merge'] != 'both']"
      ],
      "execution_count": 41,
      "outputs": [
        {
          "output_type": "execute_result",
          "data": {
            "text/html": [
              "<div>\n",
              "<style scoped>\n",
              "    .dataframe tbody tr th:only-of-type {\n",
              "        vertical-align: middle;\n",
              "    }\n",
              "\n",
              "    .dataframe tbody tr th {\n",
              "        vertical-align: top;\n",
              "    }\n",
              "\n",
              "    .dataframe thead th {\n",
              "        text-align: right;\n",
              "    }\n",
              "</style>\n",
              "<table border=\"1\" class=\"dataframe\">\n",
              "  <thead>\n",
              "    <tr style=\"text-align: right;\">\n",
              "      <th></th>\n",
              "      <th>estado</th>\n",
              "      <th>abbreviation</th>\n",
              "      <th>state</th>\n",
              "      <th>area</th>\n",
              "      <th>_merge</th>\n",
              "    </tr>\n",
              "  </thead>\n",
              "  <tbody>\n",
              "    <tr>\n",
              "      <th>51</th>\n",
              "      <td>NaN</td>\n",
              "      <td>NaN</td>\n",
              "      <td>Puerto Rico</td>\n",
              "      <td>3515</td>\n",
              "      <td>right_only</td>\n",
              "    </tr>\n",
              "  </tbody>\n",
              "</table>\n",
              "</div>"
            ],
            "text/plain": [
              "   estado abbreviation        state  area      _merge\n",
              "51    NaN          NaN  Puerto Rico  3515  right_only"
            ]
          },
          "metadata": {
            "tags": []
          },
          "execution_count": 41
        }
      ]
    },
    {
      "cell_type": "code",
      "metadata": {
        "id": "uQKRuFyvMmNr",
        "outputId": "62e47f41-fe67-44db-adcb-10fafdf9b7ea",
        "colab": {
          "base_uri": "https://localhost:8080/",
          "height": 198
        }
      },
      "source": [
        "url = 'https://raw.githubusercontent.com/medinabopp/DSWP/master/Dataframes/USA_Population.csv'\n",
        "#df_USA_Abbrev = pd.read_csv(url, index_col = 'PassengerId')\n",
        "df_USA_Population = pd.read_csv(url)\n",
        "df_USA_Population.head()"
      ],
      "execution_count": 42,
      "outputs": [
        {
          "output_type": "execute_result",
          "data": {
            "text/html": [
              "<div>\n",
              "<style scoped>\n",
              "    .dataframe tbody tr th:only-of-type {\n",
              "        vertical-align: middle;\n",
              "    }\n",
              "\n",
              "    .dataframe tbody tr th {\n",
              "        vertical-align: top;\n",
              "    }\n",
              "\n",
              "    .dataframe thead th {\n",
              "        text-align: right;\n",
              "    }\n",
              "</style>\n",
              "<table border=\"1\" class=\"dataframe\">\n",
              "  <thead>\n",
              "    <tr style=\"text-align: right;\">\n",
              "      <th></th>\n",
              "      <th>state_region</th>\n",
              "      <th>ages</th>\n",
              "      <th>year</th>\n",
              "      <th>population</th>\n",
              "    </tr>\n",
              "  </thead>\n",
              "  <tbody>\n",
              "    <tr>\n",
              "      <th>0</th>\n",
              "      <td>AL</td>\n",
              "      <td>under18</td>\n",
              "      <td>2012</td>\n",
              "      <td>1117489.0</td>\n",
              "    </tr>\n",
              "    <tr>\n",
              "      <th>1</th>\n",
              "      <td>AL</td>\n",
              "      <td>total</td>\n",
              "      <td>2012</td>\n",
              "      <td>4817528.0</td>\n",
              "    </tr>\n",
              "    <tr>\n",
              "      <th>2</th>\n",
              "      <td>AL</td>\n",
              "      <td>under18</td>\n",
              "      <td>2010</td>\n",
              "      <td>1130966.0</td>\n",
              "    </tr>\n",
              "    <tr>\n",
              "      <th>3</th>\n",
              "      <td>AL</td>\n",
              "      <td>total</td>\n",
              "      <td>2010</td>\n",
              "      <td>4785570.0</td>\n",
              "    </tr>\n",
              "    <tr>\n",
              "      <th>4</th>\n",
              "      <td>AL</td>\n",
              "      <td>under18</td>\n",
              "      <td>2011</td>\n",
              "      <td>1125763.0</td>\n",
              "    </tr>\n",
              "  </tbody>\n",
              "</table>\n",
              "</div>"
            ],
            "text/plain": [
              "  state_region     ages  year  population\n",
              "0           AL  under18  2012   1117489.0\n",
              "1           AL    total  2012   4817528.0\n",
              "2           AL  under18  2010   1130966.0\n",
              "3           AL    total  2010   4785570.0\n",
              "4           AL  under18  2011   1125763.0"
            ]
          },
          "metadata": {
            "tags": []
          },
          "execution_count": 42
        }
      ]
    },
    {
      "cell_type": "code",
      "metadata": {
        "id": "y3AGfGdnQvlF",
        "outputId": "2cba6140-f988-457e-b28b-1cfcf1997b1f",
        "colab": {
          "base_uri": "https://localhost:8080/",
          "height": 34
        }
      },
      "source": [
        "df_USA_Population.columns"
      ],
      "execution_count": 43,
      "outputs": [
        {
          "output_type": "execute_result",
          "data": {
            "text/plain": [
              "Index(['state_region', 'ages', 'year', 'population'], dtype='object')"
            ]
          },
          "metadata": {
            "tags": []
          },
          "execution_count": 43
        }
      ]
    },
    {
      "cell_type": "code",
      "metadata": {
        "id": "LjsRRDQUQvac",
        "outputId": "96a4a53e-c6bb-423d-f80d-0967f8fb83e2",
        "colab": {
          "base_uri": "https://localhost:8080/",
          "height": 34
        }
      },
      "source": [
        "df_USA_Abbrev.columns"
      ],
      "execution_count": 44,
      "outputs": [
        {
          "output_type": "execute_result",
          "data": {
            "text/plain": [
              "Index(['estado', 'abbreviation'], dtype='object')"
            ]
          },
          "metadata": {
            "tags": []
          },
          "execution_count": 44
        }
      ]
    },
    {
      "cell_type": "code",
      "metadata": {
        "id": "1Qu9j2coTYpR",
        "outputId": "6c991af5-bbbd-42f7-851b-46abccdeca87",
        "colab": {
          "base_uri": "https://localhost:8080/",
          "height": 198
        }
      },
      "source": [
        "# left_on='id', right_on='id'\n",
        "df_USA_Pop_Abbrev = pd.merge(df_USA_Population, df_USA_Abbrev, left_on='state_region', right_on='abbreviation', how = 'outer', indicator = True)\n",
        "\n",
        "df_USA_Pop_Abbrev.head()"
      ],
      "execution_count": 55,
      "outputs": [
        {
          "output_type": "execute_result",
          "data": {
            "text/html": [
              "<div>\n",
              "<style scoped>\n",
              "    .dataframe tbody tr th:only-of-type {\n",
              "        vertical-align: middle;\n",
              "    }\n",
              "\n",
              "    .dataframe tbody tr th {\n",
              "        vertical-align: top;\n",
              "    }\n",
              "\n",
              "    .dataframe thead th {\n",
              "        text-align: right;\n",
              "    }\n",
              "</style>\n",
              "<table border=\"1\" class=\"dataframe\">\n",
              "  <thead>\n",
              "    <tr style=\"text-align: right;\">\n",
              "      <th></th>\n",
              "      <th>state_region</th>\n",
              "      <th>ages</th>\n",
              "      <th>year</th>\n",
              "      <th>population</th>\n",
              "      <th>estado</th>\n",
              "      <th>abbreviation</th>\n",
              "      <th>_merge</th>\n",
              "    </tr>\n",
              "  </thead>\n",
              "  <tbody>\n",
              "    <tr>\n",
              "      <th>0</th>\n",
              "      <td>AL</td>\n",
              "      <td>under18</td>\n",
              "      <td>2012</td>\n",
              "      <td>1117489.0</td>\n",
              "      <td>Alabama</td>\n",
              "      <td>AL</td>\n",
              "      <td>both</td>\n",
              "    </tr>\n",
              "    <tr>\n",
              "      <th>1</th>\n",
              "      <td>AL</td>\n",
              "      <td>total</td>\n",
              "      <td>2012</td>\n",
              "      <td>4817528.0</td>\n",
              "      <td>Alabama</td>\n",
              "      <td>AL</td>\n",
              "      <td>both</td>\n",
              "    </tr>\n",
              "    <tr>\n",
              "      <th>2</th>\n",
              "      <td>AL</td>\n",
              "      <td>under18</td>\n",
              "      <td>2010</td>\n",
              "      <td>1130966.0</td>\n",
              "      <td>Alabama</td>\n",
              "      <td>AL</td>\n",
              "      <td>both</td>\n",
              "    </tr>\n",
              "    <tr>\n",
              "      <th>3</th>\n",
              "      <td>AL</td>\n",
              "      <td>total</td>\n",
              "      <td>2010</td>\n",
              "      <td>4785570.0</td>\n",
              "      <td>Alabama</td>\n",
              "      <td>AL</td>\n",
              "      <td>both</td>\n",
              "    </tr>\n",
              "    <tr>\n",
              "      <th>4</th>\n",
              "      <td>AL</td>\n",
              "      <td>under18</td>\n",
              "      <td>2011</td>\n",
              "      <td>1125763.0</td>\n",
              "      <td>Alabama</td>\n",
              "      <td>AL</td>\n",
              "      <td>both</td>\n",
              "    </tr>\n",
              "  </tbody>\n",
              "</table>\n",
              "</div>"
            ],
            "text/plain": [
              "  state_region     ages  year  population   estado abbreviation _merge\n",
              "0           AL  under18  2012   1117489.0  Alabama           AL   both\n",
              "1           AL    total  2012   4817528.0  Alabama           AL   both\n",
              "2           AL  under18  2010   1130966.0  Alabama           AL   both\n",
              "3           AL    total  2010   4785570.0  Alabama           AL   both\n",
              "4           AL  under18  2011   1125763.0  Alabama           AL   both"
            ]
          },
          "metadata": {
            "tags": []
          },
          "execution_count": 55
        }
      ]
    },
    {
      "cell_type": "code",
      "metadata": {
        "id": "TCloglehYjXx",
        "outputId": "7e495700-a943-4089-bc3a-66cb9cb9894c",
        "colab": {
          "base_uri": "https://localhost:8080/",
          "height": 198
        }
      },
      "source": [
        "df_USA_Area.head()"
      ],
      "execution_count": 51,
      "outputs": [
        {
          "output_type": "execute_result",
          "data": {
            "text/html": [
              "<div>\n",
              "<style scoped>\n",
              "    .dataframe tbody tr th:only-of-type {\n",
              "        vertical-align: middle;\n",
              "    }\n",
              "\n",
              "    .dataframe tbody tr th {\n",
              "        vertical-align: top;\n",
              "    }\n",
              "\n",
              "    .dataframe thead th {\n",
              "        text-align: right;\n",
              "    }\n",
              "</style>\n",
              "<table border=\"1\" class=\"dataframe\">\n",
              "  <thead>\n",
              "    <tr style=\"text-align: right;\">\n",
              "      <th></th>\n",
              "      <th>state</th>\n",
              "      <th>area</th>\n",
              "    </tr>\n",
              "  </thead>\n",
              "  <tbody>\n",
              "    <tr>\n",
              "      <th>0</th>\n",
              "      <td>Alabama</td>\n",
              "      <td>52423</td>\n",
              "    </tr>\n",
              "    <tr>\n",
              "      <th>1</th>\n",
              "      <td>Alaska</td>\n",
              "      <td>656425</td>\n",
              "    </tr>\n",
              "    <tr>\n",
              "      <th>2</th>\n",
              "      <td>Arizona</td>\n",
              "      <td>114006</td>\n",
              "    </tr>\n",
              "    <tr>\n",
              "      <th>3</th>\n",
              "      <td>Arkansas</td>\n",
              "      <td>53182</td>\n",
              "    </tr>\n",
              "    <tr>\n",
              "      <th>4</th>\n",
              "      <td>California</td>\n",
              "      <td>163707</td>\n",
              "    </tr>\n",
              "  </tbody>\n",
              "</table>\n",
              "</div>"
            ],
            "text/plain": [
              "        state    area\n",
              "0     Alabama   52423\n",
              "1      Alaska  656425\n",
              "2     Arizona  114006\n",
              "3    Arkansas   53182\n",
              "4  California  163707"
            ]
          },
          "metadata": {
            "tags": []
          },
          "execution_count": 51
        }
      ]
    },
    {
      "cell_type": "markdown",
      "metadata": {
        "id": "GmBJsEWAM5yC"
      },
      "source": [
        " contendo as COLUNAS \n",
        "  df_USA_Population.state, \n",
        "  df_USA_Abbrev.abbreviation, \n",
        "  df_USA_Area.area, \n",
        "  df_USAPopulation.ages, year, population."
      ]
    },
    {
      "cell_type": "code",
      "metadata": {
        "id": "7Rwtk2ttNdhB",
        "outputId": "663853d6-1f39-4b0f-ac99-f136248888da",
        "colab": {
          "base_uri": "https://localhost:8080/",
          "height": 198
        }
      },
      "source": [
        "df_USA_Pop_Abbrev_Area = pd.merge(df_USA_Pop_Abbrev, df_USA_Area, left_on='estado', right_on='state', how = 'outer') #, indicator = True)\n",
        "\n",
        "df_USA_Pop_Abbrev_Area.head()"
      ],
      "execution_count": 57,
      "outputs": [
        {
          "output_type": "execute_result",
          "data": {
            "text/html": [
              "<div>\n",
              "<style scoped>\n",
              "    .dataframe tbody tr th:only-of-type {\n",
              "        vertical-align: middle;\n",
              "    }\n",
              "\n",
              "    .dataframe tbody tr th {\n",
              "        vertical-align: top;\n",
              "    }\n",
              "\n",
              "    .dataframe thead th {\n",
              "        text-align: right;\n",
              "    }\n",
              "</style>\n",
              "<table border=\"1\" class=\"dataframe\">\n",
              "  <thead>\n",
              "    <tr style=\"text-align: right;\">\n",
              "      <th></th>\n",
              "      <th>state_region</th>\n",
              "      <th>ages</th>\n",
              "      <th>year</th>\n",
              "      <th>population</th>\n",
              "      <th>estado</th>\n",
              "      <th>abbreviation</th>\n",
              "      <th>_merge</th>\n",
              "      <th>state</th>\n",
              "      <th>area</th>\n",
              "    </tr>\n",
              "  </thead>\n",
              "  <tbody>\n",
              "    <tr>\n",
              "      <th>0</th>\n",
              "      <td>AL</td>\n",
              "      <td>under18</td>\n",
              "      <td>2012.0</td>\n",
              "      <td>1117489.0</td>\n",
              "      <td>Alabama</td>\n",
              "      <td>AL</td>\n",
              "      <td>both</td>\n",
              "      <td>Alabama</td>\n",
              "      <td>52423.0</td>\n",
              "    </tr>\n",
              "    <tr>\n",
              "      <th>1</th>\n",
              "      <td>AL</td>\n",
              "      <td>total</td>\n",
              "      <td>2012.0</td>\n",
              "      <td>4817528.0</td>\n",
              "      <td>Alabama</td>\n",
              "      <td>AL</td>\n",
              "      <td>both</td>\n",
              "      <td>Alabama</td>\n",
              "      <td>52423.0</td>\n",
              "    </tr>\n",
              "    <tr>\n",
              "      <th>2</th>\n",
              "      <td>AL</td>\n",
              "      <td>under18</td>\n",
              "      <td>2010.0</td>\n",
              "      <td>1130966.0</td>\n",
              "      <td>Alabama</td>\n",
              "      <td>AL</td>\n",
              "      <td>both</td>\n",
              "      <td>Alabama</td>\n",
              "      <td>52423.0</td>\n",
              "    </tr>\n",
              "    <tr>\n",
              "      <th>3</th>\n",
              "      <td>AL</td>\n",
              "      <td>total</td>\n",
              "      <td>2010.0</td>\n",
              "      <td>4785570.0</td>\n",
              "      <td>Alabama</td>\n",
              "      <td>AL</td>\n",
              "      <td>both</td>\n",
              "      <td>Alabama</td>\n",
              "      <td>52423.0</td>\n",
              "    </tr>\n",
              "    <tr>\n",
              "      <th>4</th>\n",
              "      <td>AL</td>\n",
              "      <td>under18</td>\n",
              "      <td>2011.0</td>\n",
              "      <td>1125763.0</td>\n",
              "      <td>Alabama</td>\n",
              "      <td>AL</td>\n",
              "      <td>both</td>\n",
              "      <td>Alabama</td>\n",
              "      <td>52423.0</td>\n",
              "    </tr>\n",
              "  </tbody>\n",
              "</table>\n",
              "</div>"
            ],
            "text/plain": [
              "  state_region     ages    year  ...  _merge    state     area\n",
              "0           AL  under18  2012.0  ...    both  Alabama  52423.0\n",
              "1           AL    total  2012.0  ...    both  Alabama  52423.0\n",
              "2           AL  under18  2010.0  ...    both  Alabama  52423.0\n",
              "3           AL    total  2010.0  ...    both  Alabama  52423.0\n",
              "4           AL  under18  2011.0  ...    both  Alabama  52423.0\n",
              "\n",
              "[5 rows x 9 columns]"
            ]
          },
          "metadata": {
            "tags": []
          },
          "execution_count": 57
        }
      ]
    },
    {
      "cell_type": "code",
      "metadata": {
        "id": "mY4WrZpnM7sY"
      },
      "source": [
        ""
      ],
      "execution_count": null,
      "outputs": []
    },
    {
      "cell_type": "code",
      "metadata": {
        "id": "6db5pZ0Dm6OD"
      },
      "source": [
        ""
      ],
      "execution_count": null,
      "outputs": []
    },
    {
      "cell_type": "code",
      "metadata": {
        "id": "Ch5gYhVHm6Q6"
      },
      "source": [
        ""
      ],
      "execution_count": null,
      "outputs": []
    },
    {
      "cell_type": "code",
      "metadata": {
        "id": "bDB9qQS7m6Vr"
      },
      "source": [
        ""
      ],
      "execution_count": null,
      "outputs": []
    },
    {
      "cell_type": "code",
      "metadata": {
        "id": "xLIuCCINm6XG"
      },
      "source": [
        ""
      ],
      "execution_count": null,
      "outputs": []
    },
    {
      "cell_type": "code",
      "metadata": {
        "id": "i5z0-G3xm6bM"
      },
      "source": [
        "# Mostra as LINHAS duplicadas usando as COLUNAS 'A' e 'B'\n",
        "df[df.duplicated(subset=['A','B'])]"
      ],
      "execution_count": null,
      "outputs": []
    }
  ]
}